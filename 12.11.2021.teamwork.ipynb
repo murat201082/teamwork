{
 "cells": [
  {
   "cell_type": "code",
   "execution_count": 11,
   "metadata": {},
   "outputs": [
    {
     "name": "stdout",
     "output_type": "stream",
     "text": [
      "[[1, [2, 3], 4]]\n",
      "[[1, [2, 3], 4], 7, 8, 9]\n",
      "11\n"
     ]
    }
   ],
   "source": [
    "L1 = [] \n",
    "L1.append([1, [2, 3], 4]) \n",
    "print(L1)\n",
    "L1.extend([7, 8, 9])\n",
    "print(L1) \n",
    "print(L1[0][1][1] + L1[2]) "
   ]
  },
  {
   "cell_type": "code",
   "execution_count": 35,
   "metadata": {},
   "outputs": [
    {
     "name": "stdout",
     "output_type": "stream",
     "text": [
      "[3]\n",
      "6 8\n",
      "5\n"
     ]
    }
   ],
   "source": [
    "T = (1, 2, 3, 4, 5, 6, 7, 8) \n",
    "a = [T.index(4)]\n",
    "print(a)\n",
    "print(T[T.index(6)], end =  \" \") \n",
    "print(T[T[T[6]-3]-6]) \n",
    "print(T[T[6]-3])"
   ]
  },
  {
   "cell_type": "code",
   "execution_count": 42,
   "metadata": {},
   "outputs": [
    {
     "name": "stdout",
     "output_type": "stream",
     "text": [
      "{1: 1, 2: '2', '1': 2, '2': 3}\n",
      "3\n"
     ]
    }
   ],
   "source": [
    "D = {1 : 1, 2 :  '2',  '1'  : 1,  '2'  : 3} \n",
    "D['1'] = 2 \n",
    "print(D)\n",
    "print(D['2']) "
   ]
  },
  {
   "cell_type": "code",
   "execution_count": 44,
   "metadata": {},
   "outputs": [
    {
     "name": "stdout",
     "output_type": "stream",
     "text": [
      "{1, 2, 3, 4}\n"
     ]
    }
   ],
   "source": [
    "set1 = {1, 2, 3} \n",
    "set2 = set1.copy() \n",
    "set2.add(4) \n",
    "print(set2) "
   ]
  }
 ],
 "metadata": {
  "interpreter": {
   "hash": "916dbcbb3f70747c44a77c7bcd40155683ae19c65e1c03b4aa3499c5328201f1"
  },
  "kernelspec": {
   "display_name": "Python 3.8.10 64-bit",
   "language": "python",
   "name": "python3"
  },
  "language_info": {
   "codemirror_mode": {
    "name": "ipython",
    "version": 3
   },
   "file_extension": ".py",
   "mimetype": "text/x-python",
   "name": "python",
   "nbconvert_exporter": "python",
   "pygments_lexer": "ipython3",
   "version": "3.8.10"
  },
  "orig_nbformat": 4
 },
 "nbformat": 4,
 "nbformat_minor": 2
}
